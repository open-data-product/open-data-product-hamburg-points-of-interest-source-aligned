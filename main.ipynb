{
 "cells": [
  {
   "cell_type": "markdown",
   "id": "a20336ad",
   "metadata": {},
   "source": [
    "# Hamburg Points of Interest - Sample Notebook"
   ]
  },
  {
   "cell_type": "markdown",
   "id": "16ed09d1",
   "metadata": {},
   "source": [
    "## Explore data"
   ]
  },
  {
   "cell_type": "code",
   "execution_count": 1,
   "id": "07aada48",
   "metadata": {
    "execution": {
     "iopub.execute_input": "2025-10-28T23:08:50.964669Z",
     "iopub.status.busy": "2025-10-28T23:08:50.964414Z",
     "iopub.status.idle": "2025-10-28T23:08:50.975554Z",
     "shell.execute_reply": "2025-10-28T23:08:50.974893Z"
    }
   },
   "outputs": [],
   "source": [
    "import pandas as pd\n",
    "\n",
    "# Read csv file\n",
    "dataframe = pd.read_csv(\n",
    "    \"./data/03-gold/hamburg-points-of-interest-2025-10/hamburg-points-of-interest-universities-details.csv\"\n",
    ")"
   ]
  },
  {
   "cell_type": "code",
   "execution_count": 2,
   "id": "2d50502f",
   "metadata": {
    "execution": {
     "iopub.execute_input": "2025-10-28T23:08:50.977422Z",
     "iopub.status.busy": "2025-10-28T23:08:50.977275Z",
     "iopub.status.idle": "2025-10-28T23:08:50.996541Z",
     "shell.execute_reply": "2025-10-28T23:08:50.996063Z"
    }
   },
   "outputs": [
    {
     "data": {
      "text/html": [
       "<div>\n",
       "<style scoped>\n",
       "    .dataframe tbody tr th:only-of-type {\n",
       "        vertical-align: middle;\n",
       "    }\n",
       "\n",
       "    .dataframe tbody tr th {\n",
       "        vertical-align: top;\n",
       "    }\n",
       "\n",
       "    .dataframe thead th {\n",
       "        text-align: right;\n",
       "    }\n",
       "</style>\n",
       "<table border=\"1\" class=\"dataframe\">\n",
       "  <thead>\n",
       "    <tr style=\"text-align: right;\">\n",
       "      <th></th>\n",
       "      <th>id</th>\n",
       "      <th>lat</th>\n",
       "      <th>lon</th>\n",
       "      <th>name</th>\n",
       "      <th>street</th>\n",
       "      <th>zip_code</th>\n",
       "      <th>city</th>\n",
       "    </tr>\n",
       "  </thead>\n",
       "  <tbody>\n",
       "    <tr>\n",
       "      <th>0</th>\n",
       "      <td>295677295</td>\n",
       "      <td>53.568097</td>\n",
       "      <td>9.978053</td>\n",
       "      <td>Fachbereich Chemie</td>\n",
       "      <td>Martin-Luther-King-Platz 6</td>\n",
       "      <td>20146.0</td>\n",
       "      <td>Hamburg</td>\n",
       "    </tr>\n",
       "    <tr>\n",
       "      <th>1</th>\n",
       "      <td>339979039</td>\n",
       "      <td>53.568259</td>\n",
       "      <td>9.974043</td>\n",
       "      <td>Fachbereich Geowissenschaften</td>\n",
       "      <td>NaN</td>\n",
       "      <td>NaN</td>\n",
       "      <td>Hamburg</td>\n",
       "    </tr>\n",
       "    <tr>\n",
       "      <th>2</th>\n",
       "      <td>339979101</td>\n",
       "      <td>53.567912</td>\n",
       "      <td>9.974151</td>\n",
       "      <td>Fachbereich Mathematik</td>\n",
       "      <td>NaN</td>\n",
       "      <td>NaN</td>\n",
       "      <td>Hamburg</td>\n",
       "    </tr>\n",
       "    <tr>\n",
       "      <th>3</th>\n",
       "      <td>409587431</td>\n",
       "      <td>53.567360</td>\n",
       "      <td>9.982483</td>\n",
       "      <td>Fachbereich Sozialwissenschaften</td>\n",
       "      <td>NaN</td>\n",
       "      <td>NaN</td>\n",
       "      <td>NaN</td>\n",
       "    </tr>\n",
       "    <tr>\n",
       "      <th>4</th>\n",
       "      <td>427951735</td>\n",
       "      <td>53.567933</td>\n",
       "      <td>9.975391</td>\n",
       "      <td>Centrum für Erdsystemforschung und Nachhaltigkeit</td>\n",
       "      <td>Bundesstraße 53</td>\n",
       "      <td>20146.0</td>\n",
       "      <td>Hamburg</td>\n",
       "    </tr>\n",
       "  </tbody>\n",
       "</table>\n",
       "</div>"
      ],
      "text/plain": [
       "          id        lat  ...  zip_code     city\n",
       "0  295677295  53.568097  ...   20146.0  Hamburg\n",
       "1  339979039  53.568259  ...       NaN  Hamburg\n",
       "2  339979101  53.567912  ...       NaN  Hamburg\n",
       "3  409587431  53.567360  ...       NaN      NaN\n",
       "4  427951735  53.567933  ...   20146.0  Hamburg\n",
       "\n",
       "[5 rows x 7 columns]"
      ]
     },
     "execution_count": 2,
     "metadata": {},
     "output_type": "execute_result"
    }
   ],
   "source": [
    "# Display 5 first rows\n",
    "dataframe.head()"
   ]
  },
  {
   "cell_type": "code",
   "execution_count": 3,
   "id": "7efbd036",
   "metadata": {
    "execution": {
     "iopub.execute_input": "2025-10-28T23:08:50.998070Z",
     "iopub.status.busy": "2025-10-28T23:08:50.997960Z",
     "iopub.status.idle": "2025-10-28T23:08:51.002649Z",
     "shell.execute_reply": "2025-10-28T23:08:51.002171Z"
    }
   },
   "outputs": [
    {
     "name": "stdout",
     "output_type": "stream",
     "text": [
      "<class 'pandas.core.frame.DataFrame'>\n",
      "RangeIndex: 30 entries, 0 to 29\n",
      "Data columns (total 7 columns):\n",
      " #   Column    Non-Null Count  Dtype  \n",
      "---  ------    --------------  -----  \n",
      " 0   id        30 non-null     int64  \n",
      " 1   lat       30 non-null     float64\n",
      " 2   lon       30 non-null     float64\n",
      " 3   name      29 non-null     object \n",
      " 4   street    14 non-null     object \n",
      " 5   zip_code  12 non-null     float64\n",
      " 6   city      15 non-null     object \n",
      "dtypes: float64(3), int64(1), object(3)\n",
      "memory usage: 1.8+ KB\n"
     ]
    }
   ],
   "source": [
    "# Display dataframe info\n",
    "dataframe.info()"
   ]
  },
  {
   "cell_type": "code",
   "execution_count": 4,
   "id": "d5c783ff",
   "metadata": {
    "execution": {
     "iopub.execute_input": "2025-10-28T23:08:51.003858Z",
     "iopub.status.busy": "2025-10-28T23:08:51.003771Z",
     "iopub.status.idle": "2025-10-28T23:08:51.011192Z",
     "shell.execute_reply": "2025-10-28T23:08:51.010815Z"
    }
   },
   "outputs": [
    {
     "data": {
      "text/html": [
       "<div>\n",
       "<style scoped>\n",
       "    .dataframe tbody tr th:only-of-type {\n",
       "        vertical-align: middle;\n",
       "    }\n",
       "\n",
       "    .dataframe tbody tr th {\n",
       "        vertical-align: top;\n",
       "    }\n",
       "\n",
       "    .dataframe thead th {\n",
       "        text-align: right;\n",
       "    }\n",
       "</style>\n",
       "<table border=\"1\" class=\"dataframe\">\n",
       "  <thead>\n",
       "    <tr style=\"text-align: right;\">\n",
       "      <th></th>\n",
       "      <th>id</th>\n",
       "      <th>lat</th>\n",
       "      <th>lon</th>\n",
       "      <th>zip_code</th>\n",
       "    </tr>\n",
       "  </thead>\n",
       "  <tbody>\n",
       "    <tr>\n",
       "      <th>count</th>\n",
       "      <td>3.000000e+01</td>\n",
       "      <td>30.000000</td>\n",
       "      <td>30.000000</td>\n",
       "      <td>12.000000</td>\n",
       "    </tr>\n",
       "    <tr>\n",
       "      <th>mean</th>\n",
       "      <td>5.444122e+09</td>\n",
       "      <td>53.560168</td>\n",
       "      <td>9.983999</td>\n",
       "      <td>21087.500000</td>\n",
       "    </tr>\n",
       "    <tr>\n",
       "      <th>std</th>\n",
       "      <td>4.432929e+09</td>\n",
       "      <td>0.031436</td>\n",
       "      <td>0.037828</td>\n",
       "      <td>1639.136386</td>\n",
       "    </tr>\n",
       "    <tr>\n",
       "      <th>min</th>\n",
       "      <td>2.956773e+08</td>\n",
       "      <td>53.463125</td>\n",
       "      <td>9.858111</td>\n",
       "      <td>20146.000000</td>\n",
       "    </tr>\n",
       "    <tr>\n",
       "      <th>25%</th>\n",
       "      <td>5.120997e+08</td>\n",
       "      <td>53.557110</td>\n",
       "      <td>9.974164</td>\n",
       "      <td>20146.000000</td>\n",
       "    </tr>\n",
       "    <tr>\n",
       "      <th>50%</th>\n",
       "      <td>5.949431e+09</td>\n",
       "      <td>53.567883</td>\n",
       "      <td>9.978260</td>\n",
       "      <td>20250.000000</td>\n",
       "    </tr>\n",
       "    <tr>\n",
       "      <th>75%</th>\n",
       "      <td>8.815427e+09</td>\n",
       "      <td>53.568309</td>\n",
       "      <td>9.986937</td>\n",
       "      <td>21344.500000</td>\n",
       "    </tr>\n",
       "    <tr>\n",
       "      <th>max</th>\n",
       "      <td>1.269752e+10</td>\n",
       "      <td>53.631692</td>\n",
       "      <td>10.106860</td>\n",
       "      <td>25469.000000</td>\n",
       "    </tr>\n",
       "  </tbody>\n",
       "</table>\n",
       "</div>"
      ],
      "text/plain": [
       "                 id        lat        lon      zip_code\n",
       "count  3.000000e+01  30.000000  30.000000     12.000000\n",
       "mean   5.444122e+09  53.560168   9.983999  21087.500000\n",
       "std    4.432929e+09   0.031436   0.037828   1639.136386\n",
       "min    2.956773e+08  53.463125   9.858111  20146.000000\n",
       "25%    5.120997e+08  53.557110   9.974164  20146.000000\n",
       "50%    5.949431e+09  53.567883   9.978260  20250.000000\n",
       "75%    8.815427e+09  53.568309   9.986937  21344.500000\n",
       "max    1.269752e+10  53.631692  10.106860  25469.000000"
      ]
     },
     "execution_count": 4,
     "metadata": {},
     "output_type": "execute_result"
    }
   ],
   "source": [
    "# Describe dataframe\n",
    "dataframe.describe()"
   ]
  }
 ],
 "metadata": {
  "language_info": {
   "codemirror_mode": {
    "name": "ipython",
    "version": 3
   },
   "file_extension": ".py",
   "mimetype": "text/x-python",
   "name": "python",
   "nbconvert_exporter": "python",
   "pygments_lexer": "ipython3",
   "version": "3.13.7"
  }
 },
 "nbformat": 4,
 "nbformat_minor": 5
}
